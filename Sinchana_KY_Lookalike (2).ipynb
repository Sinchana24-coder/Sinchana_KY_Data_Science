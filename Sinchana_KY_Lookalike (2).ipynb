{
  "nbformat": 4,
  "nbformat_minor": 0,
  "metadata": {
    "colab": {
      "provenance": []
    },
    "kernelspec": {
      "name": "python3",
      "display_name": "Python 3"
    },
    "language_info": {
      "name": "python"
    }
  },
  "cells": [
    {
      "cell_type": "code",
      "execution_count": null,
      "metadata": {
        "colab": {
          "base_uri": "https://localhost:8080/"
        },
        "id": "3lVTb0LnZ0Az",
        "outputId": "f53a1ea7-6d35-415f-b638-cf70b0e8363f"
      },
      "outputs": [
        {
          "output_type": "stream",
          "name": "stdout",
          "text": [
            "  TransactionID CustomerID ProductID      TransactionDate  Quantity  \\\n",
            "0        T00001      C0199      P067  2024-08-25 12:38:23         1   \n",
            "1        T00112      C0146      P067  2024-05-27 22:23:54         1   \n",
            "2        T00166      C0127      P067  2024-04-25 07:38:55         1   \n",
            "3        T00272      C0087      P067  2024-03-26 22:55:37         2   \n",
            "4        T00363      C0070      P067  2024-03-21 15:10:10         3   \n",
            "\n",
            "   TotalValue  Price_x     CustomerName         Region  SignupDate  \\\n",
            "0      300.68   300.68   Andrea Jenkins         Europe  2022-12-03   \n",
            "1      300.68   300.68  Brittany Harvey           Asia  2024-09-04   \n",
            "2      300.68   300.68  Kathryn Stevens         Europe  2024-04-04   \n",
            "3      601.36   300.68  Travis Campbell  South America  2024-04-11   \n",
            "4      902.04   300.68    Timothy Perez         Europe  2022-03-15   \n",
            "\n",
            "                       ProductName     Category  Price_y  \n",
            "0  ComfortLiving Bluetooth Speaker  Electronics   300.68  \n",
            "1  ComfortLiving Bluetooth Speaker  Electronics   300.68  \n",
            "2  ComfortLiving Bluetooth Speaker  Electronics   300.68  \n",
            "3  ComfortLiving Bluetooth Speaker  Electronics   300.68  \n",
            "4  ComfortLiving Bluetooth Speaker  Electronics   300.68  \n"
          ]
        }
      ],
      "source": [
        "import pandas as pd\n",
        "import numpy as np\n",
        "from sklearn.metrics.pairwise import cosine_similarity\n",
        "from sklearn.preprocessing import LabelEncoder\n",
        "from collections import defaultdict\n",
        "\n",
        "# Load the datasets\n",
        "customers = pd.read_csv('Customers.csv')\n",
        "products = pd.read_csv('Products.csv')\n",
        "transactions = pd.read_csv('Transactions.csv')\n",
        "\n",
        "# Merge Transactions with Customers and Products\n",
        "merged_data = transactions.merge(customers, on='CustomerID', how='left')\n",
        "merged_data = merged_data.merge(products, on='ProductID', how='left')\n",
        "\n",
        "# Check the first few rows\n",
        "print(merged_data.head())\n"
      ]
    },
    {
      "cell_type": "markdown",
      "source": [
        "**Feature Engineering**\n",
        "We will build a profile for each customer that includes:\n",
        "\n",
        "Demographics (region, signup date).\n",
        "\n",
        "Transaction history (products purchased, spending, and purchase frequency)"
      ],
      "metadata": {
        "id": "RFkMZylvcNpK"
      }
    },
    {
      "cell_type": "code",
      "source": [
        "# One-hot encode the region feature\n",
        "region_encoder = LabelEncoder()\n",
        "customers['Region_encoded'] = region_encoder.fit_transform(customers['Region'])\n",
        "\n",
        "# Calculate the total amount spent by each customer and the number of purchases per product category\n",
        "customer_spending = merged_data.groupby(['CustomerID', 'Category'])['TotalValue'].sum().unstack(fill_value=0)\n",
        "\n",
        "# Merge demographics with spending data\n",
        "customer_profiles = customers.set_index('CustomerID').join(customer_spending, on='CustomerID')\n",
        "\n",
        "# Check customer profiles\n",
        "print(customer_profiles.head())"
      ],
      "metadata": {
        "colab": {
          "base_uri": "https://localhost:8080/"
        },
        "id": "pnykndPQaBER",
        "outputId": "d8119ce5-2d9f-48e9-86bc-0ab68d23611f"
      },
      "execution_count": null,
      "outputs": [
        {
          "output_type": "stream",
          "name": "stdout",
          "text": [
            "                  CustomerName         Region  SignupDate  Region_encoded  \\\n",
            "CustomerID                                                                  \n",
            "C0001         Lawrence Carroll  South America  2022-07-10               3   \n",
            "C0002           Elizabeth Lutz           Asia  2022-02-13               0   \n",
            "C0003           Michael Rivera  South America  2024-03-07               3   \n",
            "C0004       Kathleen Rodriguez  South America  2022-10-09               3   \n",
            "C0005              Laura Weber           Asia  2022-08-15               0   \n",
            "\n",
            "              Books  Clothing  Electronics  Home Decor  \n",
            "CustomerID                                              \n",
            "C0001        114.60      0.00      2827.30      412.62  \n",
            "C0002          0.00   1025.46         0.00      837.28  \n",
            "C0003          0.00    122.36      1385.20     1217.82  \n",
            "C0004       1888.48      0.00      1355.74     2110.66  \n",
            "C0005          0.00      0.00      1180.38      853.86  \n"
          ]
        }
      ]
    },
    {
      "cell_type": "markdown",
      "source": [
        "** Calculate Similarity Scores**\n",
        "\n",
        "We'll use cosine similarity to calculate the similarity between customers based on their profiles."
      ],
      "metadata": {
        "id": "aa1ERGG4cXAR"
      }
    },
    {
      "cell_type": "code",
      "source": [
        "# Fill missing values with 0 for missing categories\n",
        "customer_profiles = customer_profiles.fillna(0)\n",
        "\n",
        "# Calculate cosine similarity between customer profiles\n",
        "similarity_matrix = cosine_similarity(customer_profiles.drop(columns=['CustomerName', 'SignupDate', 'Region']))\n",
        "similarity_df = pd.DataFrame(similarity_matrix, index=customer_profiles.index, columns=customer_profiles.index)\n",
        "\n",
        "# Check the similarity matrix for one customer (e.g., C0001)\n",
        "print(similarity_df['C0001'].head())"
      ],
      "metadata": {
        "colab": {
          "base_uri": "https://localhost:8080/"
        },
        "id": "7OHQ4_53aFMU",
        "outputId": "c72b017e-79de-4799-c88f-91f6829220a0"
      },
      "execution_count": null,
      "outputs": [
        {
          "output_type": "stream",
          "name": "stdout",
          "text": [
            "CustomerID\n",
            "C0001    1.000000\n",
            "C0002    0.091260\n",
            "C0003    0.835992\n",
            "C0004    0.548001\n",
            "C0005    0.885670\n",
            "Name: C0001, dtype: float64\n"
          ]
        }
      ]
    },
    {
      "cell_type": "markdown",
      "source": [
        "**Generate Top 3 Lookalikes for Each Customer**\n",
        "\n",
        "We’ll generate the top 3 most similar customers for each customer from C0001 to C0020.\n"
      ],
      "metadata": {
        "id": "kWH5TYn5ck7N"
      }
    },
    {
      "cell_type": "code",
      "source": [
        "# Generate the Lookalike model for the first 20 customers\n",
        "lookalike_recommendations = defaultdict(list)\n",
        "\n",
        "for customer_id in customers['CustomerID'][:20]:\n",
        "    # Get the similarity scores for the current customer\n",
        "    similarities = similarity_df[customer_id]\n",
        "\n",
        "    # Sort by similarity score (descending) and exclude the customer itself (similarity score = 1.0)\n",
        "    sorted_similarities = similarities.sort_values(ascending=False)\n",
        "    top_3_similar_customers = sorted_similarities[1:4]  # Exclude the first one, which is the customer itself\n",
        "\n",
        "    # Add the top 3 similar customers to the recommendation list\n",
        "    for similar_customer_id, score in top_3_similar_customers.items():\n",
        "        lookalike_recommendations[customer_id].append((similar_customer_id, score))\n",
        "\n",
        "# Convert recommendations into a DataFrame\n",
        "lookalike_data = []\n",
        "\n",
        "for customer_id, recommendations in lookalike_recommendations.items():\n",
        "    for similar_customer_id, score in recommendations:\n",
        "        lookalike_data.append([customer_id, similar_customer_id, score])\n",
        "\n",
        "lookalike_df = pd.DataFrame(lookalike_data, columns=['CustomerID', 'LookalikeID', 'SimilarityScore'])\n",
        "\n",
        "# Save the lookalike recommendations to a CSV\n",
        "lookalike_df.to_csv('Lookalike.csv', index=False)"
      ],
      "metadata": {
        "id": "nQ9qrdd5aJ2p"
      },
      "execution_count": null,
      "outputs": []
    }
  ]
}